{
    "cells": [
        {
            "cell_type": "markdown",
            "metadata": {},
            "source": "# My Jupyter Notebook on IBM Watson Studio"
        },
        {
            "cell_type": "markdown",
            "metadata": {},
            "source": "**Alessandro Fumagalli**\n\nMy current occupation is software  engineer at IT Company "
        },
        {
            "cell_type": "markdown",
            "metadata": {},
            "source": "*I am interested in data science because want to learn more about how to find patterns, analyse data and find outliers. Since I am workgin in IT area of my Company I think it will be in interesting and growing area of interest for me*"
        },
        {
            "cell_type": "markdown",
            "metadata": {},
            "source": "### The following code will multiply two numbers and give the result on screen"
        },
        {
            "cell_type": "code",
            "execution_count": 1,
            "metadata": {},
            "outputs": [
                {
                    "data": {
                        "text/plain": "8"
                    },
                    "execution_count": 1,
                    "metadata": {},
                    "output_type": "execute_result"
                }
            ],
            "source": "2 * 4"
        },
        {
            "cell_type": "markdown",
            "metadata": {},
            "source": "* This is the first item of a bullet list\n* This is the second item of a bullet list\n\n1. This is the first item of a numbered list\n2. This is the second item of a numbered list\n\n[This is a hyperlink to ibm site in Italy with markdown syntax](https://www.ibm.com/it-it)\n\n\n|   Col 1  | Col 2 |\n|----------|-------|\n| Cell a1  |Cell a2|\n| Cell b1  |Cell b2|"
        }
    ],
    "metadata": {
        "kernelspec": {
            "display_name": "Python 3.7",
            "language": "python",
            "name": "python3"
        },
        "language_info": {
            "codemirror_mode": {
                "name": "ipython",
                "version": 3
            },
            "file_extension": ".py",
            "mimetype": "text/x-python",
            "name": "python",
            "nbconvert_exporter": "python",
            "pygments_lexer": "ipython3",
            "version": "3.7.9"
        }
    },
    "nbformat": 4,
    "nbformat_minor": 1
}